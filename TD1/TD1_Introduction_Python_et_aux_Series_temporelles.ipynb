{
  "nbformat": 4,
  "nbformat_minor": 0,
  "metadata": {
    "colab": {
      "provenance": [],
      "private_outputs": true
    },
    "kernelspec": {
      "name": "python3",
      "display_name": "Python 3"
    },
    "language_info": {
      "name": "python"
    }
  },
  "cells": [
    {
      "cell_type": "markdown",
      "source": [],
      "metadata": {
        "id": "N2GY4gB24v0X"
      }
    },
    {
      "cell_type": "code",
      "source": [
        "import pandas as pd"
      ],
      "metadata": {
        "id": "5jUbVhnxbEDr"
      },
      "execution_count": null,
      "outputs": []
    },
    {
      "cell_type": "code",
      "source": [
        "import matplotlib"
      ],
      "metadata": {
        "id": "GjH6VgKvbJyH"
      },
      "execution_count": null,
      "outputs": []
    },
    {
      "cell_type": "code",
      "source": [
        "matplotlib.__version__"
      ],
      "metadata": {
        "id": "d-jaydpsbRk5"
      },
      "execution_count": null,
      "outputs": []
    },
    {
      "cell_type": "markdown",
      "source": [
        "# Introduction rapide à Python\n"
      ],
      "metadata": {
        "id": "WHKbVwe7BnM-"
      }
    },
    {
      "cell_type": "markdown",
      "source": [
        "## Les opérations de base"
      ],
      "metadata": {
        "id": "Loy3Zsv446ea"
      }
    },
    {
      "cell_type": "code",
      "source": [
        "# additions, soustractions, etc.\n",
        "1+2"
      ],
      "metadata": {
        "id": "-DjciIfI5D3B"
      },
      "execution_count": null,
      "outputs": []
    },
    {
      "cell_type": "code",
      "source": [
        "# déclaration des variables :\n",
        "x = 2\n",
        "x+2"
      ],
      "metadata": {
        "id": "O04xhJ--5KKB"
      },
      "execution_count": null,
      "outputs": []
    },
    {
      "cell_type": "code",
      "source": [
        "# Par défaut en notebook, seul le résultat du dernier calcul s'affiche\n",
        "# Pour afficher un résultat en cours de calcul, utiliser la fonction print\n",
        "print(3**2)\n",
        "print(\"exemple de calcul d'une puissance\", 3**2)"
      ],
      "metadata": {
        "id": "8S1Q0h-E5Pyv"
      },
      "execution_count": null,
      "outputs": []
    },
    {
      "cell_type": "markdown",
      "source": [
        "## Les listes et dictionnaires"
      ],
      "metadata": {
        "id": "3HyhL9Vy5yn8"
      }
    },
    {
      "cell_type": "code",
      "source": [
        "# On regroupe souvent les objets dans des listes :\n",
        "l = [1,2,5,\"a\",2]\n",
        "l"
      ],
      "metadata": {
        "id": "BZiAnrF553rM"
      },
      "execution_count": null,
      "outputs": []
    },
    {
      "cell_type": "code",
      "source": [
        "# On accède facilement aux éléments de la liste en indiquant leur numéro, en commençant par 0:\n",
        "print(\"le premier élément : \", l[0])\n",
        "print(\"le troisième élément : \", l[2])\n",
        "print(\"le dernier élément : \", l[-1])\n",
        "print(\"les trois premiers éléments : \", l[0:3])"
      ],
      "metadata": {
        "id": "I8p2he9F6FPN"
      },
      "execution_count": null,
      "outputs": []
    },
    {
      "cell_type": "code",
      "source": [
        "# on peut aussi regrouper des objets dans des dictionnaires :\n",
        "d = {'a':1, 'b':4, 'c':8}\n",
        "d['a']"
      ],
      "metadata": {
        "id": "TWlIP_Ij-Dl0"
      },
      "execution_count": null,
      "outputs": []
    },
    {
      "cell_type": "code",
      "source": [
        "# longeur d'une liste :\n",
        "l = [1,2,5,\"a\",2]\n",
        "len(l)"
      ],
      "metadata": {
        "id": "Dtf2e4T1-ccO"
      },
      "execution_count": null,
      "outputs": []
    },
    {
      "cell_type": "markdown",
      "source": [
        "## Les boucles *for*"
      ],
      "metadata": {
        "id": "LdGoV42V6pbc"
      }
    },
    {
      "cell_type": "code",
      "source": [
        "# On itère dans une liste grâce aux boucles for :\n",
        "l = [1,2,5,\"a\",2]\n",
        "for x in l:\n",
        "  print(x)\n"
      ],
      "metadata": {
        "id": "SRD7SUEO6zBn"
      },
      "execution_count": null,
      "outputs": []
    },
    {
      "cell_type": "code",
      "source": [
        "# On itère facilement sur des entiers grâce à la fonction range :\n",
        "for i in range(11):\n",
        "  print(i, i**3)"
      ],
      "metadata": {
        "id": "eAlrz6RA6-kY"
      },
      "execution_count": null,
      "outputs": []
    },
    {
      "cell_type": "code",
      "source": [
        "# On peut aussi faire des liste régulières grâce à la fonction np.arange :\n",
        "import numpy as np\n",
        "np.arange(2,10,0.5)"
      ],
      "metadata": {
        "id": "AtsBhUnfBQ6W"
      },
      "execution_count": null,
      "outputs": []
    },
    {
      "cell_type": "code",
      "source": [
        "# On peut construire une nouvelle liste à partir d'une liste, en y insérant une boucle for :\n",
        "l = [1, 3, 5, 7]\n",
        "[x+1 for x in l]"
      ],
      "metadata": {
        "id": "iuwpe6zD7Sbd"
      },
      "execution_count": null,
      "outputs": []
    },
    {
      "cell_type": "markdown",
      "source": [
        "## Les instructions conditionnelles *if*"
      ],
      "metadata": {
        "id": "baGpdHbQ7jsZ"
      }
    },
    {
      "cell_type": "code",
      "source": [
        "# les éléments booléens\n",
        "print(2==2)\n",
        "print(2==3)"
      ],
      "metadata": {
        "id": "Pv1gCyog7uCN"
      },
      "execution_count": null,
      "outputs": []
    },
    {
      "cell_type": "code",
      "source": [
        "for i in range(11):\n",
        "  if i%3==0: #le signe % veut dire modulo\n",
        "    print(i)"
      ],
      "metadata": {
        "id": "5xykFMnr7-rR"
      },
      "execution_count": null,
      "outputs": []
    },
    {
      "cell_type": "code",
      "source": [
        "for i in range(11):\n",
        "  if i%3==0: #le signe % veut dire modulo\n",
        "    print(i)\n",
        "  elif i%3==1:\n",
        "    print(2*i)\n",
        "  else :\n",
        "    print(3*i)"
      ],
      "metadata": {
        "id": "RlYXlMqD8ZuO"
      },
      "execution_count": null,
      "outputs": []
    },
    {
      "cell_type": "markdown",
      "source": [
        "## Les fonctions"
      ],
      "metadata": {
        "id": "fWhNFG5Y9SYL"
      }
    },
    {
      "cell_type": "code",
      "source": [
        "# Les fonctions classiques\n",
        "CONSTANTE_1 = 8\n",
        "def exemple_fonction(x, y):\n",
        "  z = x**2+y\n",
        "  return CONSTANTE_1*z\n",
        "\n",
        "exemple_fonction(2,5)"
      ],
      "metadata": {
        "id": "Yx0Hdn8e8nnp"
      },
      "execution_count": null,
      "outputs": []
    },
    {
      "cell_type": "code",
      "source": [
        "# Pour les fonctions très simples, on peut utiliser une \"lambda function\":\n",
        "f = lambda x: 2*x + 3\n",
        "f(2)"
      ],
      "metadata": {
        "id": "NcOCy2fs9pH6"
      },
      "execution_count": null,
      "outputs": []
    },
    {
      "cell_type": "markdown",
      "source": [
        "## Les graphiques"
      ],
      "metadata": {
        "id": "2AYeyEFA-yjv"
      }
    },
    {
      "cell_type": "code",
      "source": [
        "# la bibliothèque classique de graphes en python est matplotlib\n",
        "import matplotlib.pyplot as plt\n",
        "plt.style.use('seaborn') #pour avoir un joli style"
      ],
      "metadata": {
        "id": "ADqBMQpv-2Ja"
      },
      "execution_count": null,
      "outputs": []
    },
    {
      "cell_type": "code",
      "source": [
        "plt.plot(range(10), [x**2 for x in range(10)])"
      ],
      "metadata": {
        "id": "7JgYS9K2_Bv1"
      },
      "execution_count": null,
      "outputs": []
    },
    {
      "cell_type": "markdown",
      "source": [
        "## Bibliothèques utiles"
      ],
      "metadata": {
        "id": "ywfjlhXx_p4B"
      }
    },
    {
      "cell_type": "code",
      "source": [
        "import math as m #Fonctions mathématiques de base\n",
        "import numpy as np #Fonctions numériques\n",
        "import scipy #Fonctions mathématiques avancées\n",
        "import pandas as pd #Séries temporelles\n",
        "import os #Navigation dans les dossiers"
      ],
      "metadata": {
        "id": "UD9h3MHQ_sc2"
      },
      "execution_count": null,
      "outputs": []
    },
    {
      "cell_type": "markdown",
      "source": [
        "## Exercice"
      ],
      "metadata": {
        "id": "aeQYcHCs_Zyg"
      }
    },
    {
      "cell_type": "markdown",
      "source": [
        "Tracer sur le même graphe les fonctions sin(n*x) sur l'intervale [0;10], pour n entier entre 0 et 10"
      ],
      "metadata": {
        "id": "SjqOtE9kA6Dc"
      }
    },
    {
      "cell_type": "code",
      "source": [
        "for n in range(11):\n",
        "  plt.plot(np.arange(0,10,0.1), [m.sin(n*x) for x in np.arange(0,10,0.1)])"
      ],
      "metadata": {
        "id": "nG4uA60t1MaA"
      },
      "execution_count": null,
      "outputs": []
    },
    {
      "cell_type": "markdown",
      "source": [
        "# Import d'un fichier de données"
      ],
      "metadata": {
        "id": "qrfMlcSKB6Sa"
      }
    },
    {
      "cell_type": "markdown",
      "source": [
        "## Connection à google drive"
      ],
      "metadata": {
        "id": "ATePiSgoCBQc"
      }
    },
    {
      "cell_type": "code",
      "source": [
        "from google.colab import drive\n",
        "drive.mount('/content/drive')"
      ],
      "metadata": {
        "id": "Y6CZLa_z4NOE"
      },
      "execution_count": null,
      "outputs": []
    },
    {
      "cell_type": "code",
      "source": [
        "input_dir = '/content/drive/MyDrive/Cours Data M2/TD1/Input'\n",
        "output_dir = '/content/drive/MyDrive/Cours Data M2/TD1/Output'"
      ],
      "metadata": {
        "id": "c_VQ7Vzu4O6V"
      },
      "execution_count": null,
      "outputs": []
    },
    {
      "cell_type": "code",
      "source": [
        "import os\n",
        "os.listdir('/content/drive/MyDrive/Travail/Cours/Data/Cours Data M2/TD1/Input')"
      ],
      "metadata": {
        "id": "9K9TaFsHCM2x"
      },
      "execution_count": null,
      "outputs": []
    },
    {
      "cell_type": "markdown",
      "source": [
        "## Import d'un fichier csv"
      ],
      "metadata": {
        "id": "FQK9ne5tCaST"
      }
    },
    {
      "cell_type": "code",
      "source": [
        "df = pd.read_csv(os.path.join(input_dir, 'EcoMix_2012_2024.csv'), sep=',', index_col=0, parse_dates=True)"
      ],
      "metadata": {
        "id": "CinBTqK94YIK"
      },
      "execution_count": null,
      "outputs": []
    },
    {
      "cell_type": "code",
      "source": [
        "df"
      ],
      "metadata": {
        "id": "QJP5oc17Ce7j"
      },
      "execution_count": null,
      "outputs": []
    },
    {
      "cell_type": "markdown",
      "source": [
        "## Manipulations de base d'un DataFrame"
      ],
      "metadata": {
        "id": "qdE-fbL_Ci2T"
      }
    },
    {
      "cell_type": "code",
      "source": [
        "#Index\n",
        "df.index"
      ],
      "metadata": {
        "id": "-k5hahNfCnAx"
      },
      "execution_count": null,
      "outputs": []
    },
    {
      "cell_type": "code",
      "source": [
        "#Liste des colonnes\n",
        "df.columns\n",
        "l_prod = ['Fioul', 'Charbon', 'Gaz', 'Nucléaire', 'Eolien',\n",
        "       'Solaire', 'Hydraulique', 'Pompage', 'Bioénergies', 'Ech. physiques']"
      ],
      "metadata": {
        "id": "8Tc5hS-iCpnN"
      },
      "execution_count": null,
      "outputs": []
    },
    {
      "cell_type": "code",
      "source": [
        "df[l_prod]"
      ],
      "metadata": {
        "id": "YH7EDhLf8Tgf"
      },
      "execution_count": null,
      "outputs": []
    },
    {
      "cell_type": "code",
      "source": [
        "#Sélection d'une colonne ; le résultat est une \"Série\":\n",
        "df['Consommation']"
      ],
      "metadata": {
        "id": "4FxzPzFjCshx"
      },
      "execution_count": null,
      "outputs": []
    },
    {
      "cell_type": "code",
      "source": [
        "#Sélection de plusieurs colonnes ; le résultat est une DataFrame :\n",
        "df[['Fioul', 'Charbon']]"
      ],
      "metadata": {
        "id": "OyxXaJfVCw-d"
      },
      "execution_count": null,
      "outputs": []
    },
    {
      "cell_type": "code",
      "source": [
        "#Sélection sur l'index\n",
        "df.loc['2013-01-01 00:00:00':'2013-01-01 05:00:00']"
      ],
      "metadata": {
        "id": "TDGp5DG3Dq1f"
      },
      "execution_count": null,
      "outputs": []
    },
    {
      "cell_type": "markdown",
      "source": [
        "## Opérations sur les DataFrames"
      ],
      "metadata": {
        "id": "PLFEP3IjDKxw"
      }
    },
    {
      "cell_type": "code",
      "source": [
        "#Sommes sur les colonnes :\n",
        "df.sum()"
      ],
      "metadata": {
        "id": "9P3vUzq5DPh2"
      },
      "execution_count": null,
      "outputs": []
    },
    {
      "cell_type": "code",
      "source": [
        "#Sommes sur les lignes :\n",
        "df[['Fioul', 'Charbon']].sum(axis=1)"
      ],
      "metadata": {
        "id": "KUUb85a5DZTT"
      },
      "execution_count": null,
      "outputs": []
    },
    {
      "cell_type": "code",
      "source": [
        "#Multiplications, divisions par un nombre :\n",
        "2*df['Fioul']"
      ],
      "metadata": {
        "id": "y4UWjpP5EH45"
      },
      "execution_count": null,
      "outputs": []
    },
    {
      "cell_type": "code",
      "source": [
        "#Multiplications, divisions par une Séries\n",
        "df['Nucléaire']/df['Consommation']"
      ],
      "metadata": {
        "id": "6cMmRG6SEVSR"
      },
      "execution_count": null,
      "outputs": []
    },
    {
      "cell_type": "markdown",
      "source": [
        "## Les opérations temporelles"
      ],
      "metadata": {
        "id": "5y_Qbg2kEnF9"
      }
    },
    {
      "cell_type": "code",
      "source": [
        "# Resampling au jour, mois ou à l'année :\n",
        "df['Consommation'].resample('D').sum()\n",
        "df[['Fioul', 'Charbon']].resample('MS').min()\n",
        "df['Taux de Co2'].resample('YS').mean()"
      ],
      "metadata": {
        "id": "sEaqYJPmErEd"
      },
      "execution_count": null,
      "outputs": []
    },
    {
      "cell_type": "code",
      "source": [
        "df['Consommation'].resample('YS').sum()"
      ],
      "metadata": {
        "id": "wtqhm2G59Uyh"
      },
      "execution_count": null,
      "outputs": []
    },
    {
      "cell_type": "markdown",
      "source": [
        "## Les graphiques"
      ],
      "metadata": {
        "id": "26OWkzJ3FpFv"
      }
    },
    {
      "cell_type": "code",
      "source": [
        "df['Consommation'].plot(figsize=(10,6))"
      ],
      "metadata": {
        "id": "3yYjBmdpFsU4"
      },
      "execution_count": null,
      "outputs": []
    },
    {
      "cell_type": "code",
      "source": [
        "df['Consommation'].resample('YS').sum().plot.bar(figsize=(10,6))"
      ],
      "metadata": {
        "id": "dLSuALLAFycf"
      },
      "execution_count": null,
      "outputs": []
    },
    {
      "cell_type": "code",
      "source": [
        "df[['Nucléaire', 'Charbon']].resample('MS').sum().plot(figsize=(10,6))"
      ],
      "metadata": {
        "id": "rBhTtHblGmTX"
      },
      "execution_count": null,
      "outputs": []
    },
    {
      "cell_type": "markdown",
      "source": [
        "## Exercice"
      ],
      "metadata": {
        "id": "2y0K9cYiG8kr"
      }
    },
    {
      "cell_type": "markdown",
      "source": [
        "Equilibre offre-demande :\n",
        "\n",
        "* Tracer la somme des productions et la consommation sur le même graphe\n",
        "* Calculer l'écart max entre production et consommation ; conclure\n",
        "\n",
        "Mix énergétique :\n",
        "\n",
        "* Tracer pour chaque année le mix énergétique en graphique batons\n",
        "* Calculer les pourcentages de chaque production pour chaque année\n",
        "* Montrer graphiquement que la part d'EnR dans le mix énergétique a augmenté ces dernières années\n",
        "* Montrer que le taux de CO2 du mix énergétique dépend fortement de l'utilisation des moyens de production fossiles\n",
        "* Etudier la variabilité de la production solaire, de la production éolienne et la somme des deux, à différents pas de temps. Conclure"
      ],
      "metadata": {
        "id": "mQUlS71HHErP"
      }
    },
    {
      "cell_type": "code",
      "source": [],
      "metadata": {
        "id": "JmvRKhtQmo7j"
      },
      "execution_count": null,
      "outputs": []
    }
  ]
}
