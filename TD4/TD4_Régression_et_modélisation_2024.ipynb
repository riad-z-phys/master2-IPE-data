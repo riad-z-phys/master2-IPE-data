{
  "nbformat": 4,
  "nbformat_minor": 0,
  "metadata": {
    "colab": {
      "provenance": [],
      "toc_visible": true
    },
    "kernelspec": {
      "name": "python3",
      "display_name": "Python 3"
    },
    "language_info": {
      "name": "python"
    }
  },
  "cells": [
    {
      "cell_type": "markdown",
      "source": [
        "# Exercice 1 : consommation de chauffage mensuelle d'un bâtiment"
      ],
      "metadata": {
        "id": "XqRr5104dOCE"
      }
    },
    {
      "cell_type": "code",
      "source": [
        "import matplotlib\n",
        "import scipy\n",
        "import numpy\n",
        "import pandas\n",
        "import sklearn"
      ],
      "metadata": {
        "id": "0U7qREI84c5T"
      },
      "execution_count": null,
      "outputs": []
    },
    {
      "cell_type": "code",
      "source": [
        "print(matplotlib.__version__)\n",
        "print(scipy.__version__)\n",
        "print(numpy.__version__)\n",
        "print(pandas.__version__)\n",
        "print(sklearn.__version__)"
      ],
      "metadata": {
        "colab": {
          "base_uri": "https://localhost:8080/"
        },
        "id": "D7F9ORPb4rux",
        "outputId": "0c644b08-1bf9-4dad-a2a7-78cc145c5beb"
      },
      "execution_count": null,
      "outputs": [
        {
          "output_type": "stream",
          "name": "stdout",
          "text": [
            "3.2.2\n",
            "1.7.3\n",
            "1.21.6\n",
            "1.3.5\n",
            "1.0.2\n"
          ]
        }
      ]
    },
    {
      "cell_type": "markdown",
      "source": [
        "Question 1 : importer les données du fichier *Ex1 - Chauffage vs DJU.xlsx*\n",
        "\n",
        "Question 2 : se renseigner sur la définition des DJUs\n",
        "\n",
        "Question 3 : visualiser ces données, à la fois sous forme temporelle, mais également conso gaz vs. DJU\n",
        "\n",
        "Question 4 : on se concentre sur les données 2021 ; utiliser la fonction *linregress* du package *scipy.stats* pour obtenir les coefficients *a* et *b* de la regression linéaire de la conso gaz en fonction des DJUs. Tracer le résultat\n",
        "\n",
        "Question 5 : pour l'année 2021, calculer les indicateurs de qualité R2 et CVRMSE"
      ],
      "metadata": {
        "id": "-IirWDssdOCR"
      }
    },
    {
      "cell_type": "markdown",
      "source": [
        "# Exercice 2 : analyse détaillée de la consommation de chauffage d'un bâtiment"
      ],
      "metadata": {
        "id": "mfx_hMwadUDt"
      }
    },
    {
      "cell_type": "markdown",
      "source": [
        "Question 1 : importer les données du fichier *'Ex2 - Analyse chauffage.zip'*\n",
        "\n",
        "Question 2 : préparer les données :\n",
        "*   Réindexer les données à un pas de temps minute ('1T'), à l'aide des fonctions *reindex* et *date_range* de *Pandas*\n",
        "*   Les consommations sont données sous forme d'index des compteurs (en kWh); décumuler les index (utiliser la fonction *shift* ou *diff* de pandas) et les convertir en consommation\n",
        "*   La consommation de gaz est en m3 de gaz ; la convertir en kWh également\n",
        "*   Vérifier qu'il n'y a pas de valeurs aberrantes ; le cas échéant les supprimer\n",
        "\n",
        "Question 3 : analyse du rendement\n",
        "*   Vérifier que la somme des départs est à peu près égale à la consommation de gaz\n",
        "*   Calculer le rendement de la chaudière, pour différents pas de temps d'analyse (minute, heure, jour)\n",
        "*   Commenter\n",
        "\n",
        "Question 4 : analyse du chauffage vs. Text\n",
        "*   Calculer les DJUs (méthode professionnels de l'énergie) pour chaque jour de données\n",
        "*   Réaliser une analyse par regression sur le chauffage en fonction de Text_moy (pendant la période de chauffe) ; réaliser une analyse équivalent mais en fonction des DJUs. Analyser\n",
        "\n",
        "\n",
        "\n"
      ],
      "metadata": {
        "id": "6k9zIuACddjd"
      }
    },
    {
      "cell_type": "markdown",
      "source": [
        "# Exercice 3 : thermosensibilité de la consommation électrique française"
      ],
      "metadata": {
        "id": "M-zXCpZy0ppA"
      }
    },
    {
      "cell_type": "markdown",
      "source": [
        "Question 1 : charger les fichiers *pic-journalier-consommation-brute.xlsx* et *RTE_EcoMix_2012_2023.xlsx*. Joindre les DataFrame se limiter aux dates communes\n",
        "\n",
        "Question 2 :\n",
        "*   tracer la consommation annuelle en fonction de la température extérieure. Choisir un modèle linéaire par morceau pour décrire ce comportement.\n",
        "*   utiliser la fonction *scipy.optimize.curve_fit* pour fitter ce modèle linéaire sur les données.\n",
        "\n",
        "Question 3 :\n",
        "*   pour chaque année, faire un fit de la consommation, estimer le MBE et le CVRMSE et calculer la consommation normalisée (modèle appliqué à la température de référence)\n",
        "*   montrer que la consommation normalisée a significativement baissé ces dernières années. Commenter\n",
        "\n"
      ],
      "metadata": {
        "id": "5W9zIq_609Ud"
      }
    }
  ]
}