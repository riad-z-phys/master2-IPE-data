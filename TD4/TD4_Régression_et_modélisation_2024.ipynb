{
  "cells": [
    {
      "cell_type": "markdown",
      "metadata": {
        "id": "-6oXsOP0CgKK"
      },
      "source": [
        "# Introduction"
      ]
    },
    {
      "cell_type": "code",
      "execution_count": 1,
      "metadata": {
        "id": "0U7qREI84c5T"
      },
      "outputs": [],
      "source": [
        "import matplotlib\n",
        "import matplotlib.pyplot as plt\n",
        "import scipy\n",
        "import numpy as np\n",
        "import pandas as pd\n",
        "import sklearn"
      ]
    },
    {
      "cell_type": "markdown",
      "metadata": {
        "id": "AD7qcWr4CgKN"
      },
      "source": [
        "Les données du TD sont ici : https://github.com/riad-z-phys/master2-IPE-data/tree/main/TD4/Input\n",
        "\n",
        "Pour charger un fichier de données, deux options sont possibles :\n",
        "1. télécharger à la main les données à partir de Github, mettre les fichiers en local ou dans son drive, et les importer comme dans le TD1\n",
        "2. directement depuis Github, il faut indiquer l'url permanente, que l'on peut obtenir en cliquant sur le bouton avec \"...\" et en cliquant sur \"Copy permalink\", puis remplacer le mot \"blob\" par \"raw\" dans l'url"
      ]
    },
    {
      "cell_type": "code",
      "execution_count": 2,
      "metadata": {
        "id": "j34SW9PyCgKO"
      },
      "outputs": [],
      "source": [
        "# Exemple d'import de fichier directement depuis Github\n",
        "# url du fichier \"Ex1 - Chauffage vs DJU.xlsx\" :\n",
        "url = 'https://github.com/riad-z-phys/master2-IPE-data/blob/01b2cd4fa35d0a3feac8b9c2c7078ceb6f9c35ca/TD4/Input/Ex1%20-%20Chauffage%20vs%20DJU.xlsx'\n",
        "# On corrige 'blob' par 'raw'\n",
        "corrected_url = url.replace('/blob', '/raw')\n",
        "# On peut charger les données :\n",
        "df = pd.read_excel(corrected_url, index_col=0)"
      ]
    },
    {
      "cell_type": "markdown",
      "metadata": {
        "id": "XqRr5104dOCE"
      },
      "source": [
        "# Exercice 1 : consommation de chauffage mensuelle d'un bâtiment"
      ]
    },
    {
      "cell_type": "markdown",
      "metadata": {
        "id": "-IirWDssdOCR"
      },
      "source": [
        "Question 1 : importer les données du fichier *Ex1 - Chauffage vs DJU.xlsx*\n",
        "\n",
        "Question 2 : se renseigner sur la définition des DJUs\n",
        "\n",
        "Question 3 : visualiser ces données, à la fois sous forme temporelle, mais également conso gaz vs. DJU\n",
        "\n",
        "Question 4 : on se concentre sur les données 2021 ; utiliser la fonction *linregress* du package *scipy.stats* pour obtenir les coefficients *a* et *b* de la regression linéaire de la conso gaz en fonction des DJUs. Tracer le résultat\n",
        "\n",
        "Question 5 : pour l'année 2021, calculer les indicateurs de qualité R2 et CVRMSE"
      ]
    },
    {
      "cell_type": "markdown",
      "metadata": {
        "id": "mfx_hMwadUDt"
      },
      "source": [
        "# Exercice 2 : analyse détaillée de la consommation de chauffage d'un bâtiment"
      ]
    },
    {
      "cell_type": "markdown",
      "metadata": {
        "id": "6k9zIuACddjd"
      },
      "source": [
        "Question 1 : importer les données du fichier *'Ex2 - Analyse chauffage.zip'*\n",
        "\n",
        "Question 2 : préparer les données :\n",
        "*   Réindexer les données à un pas de temps minute ('1T'), à l'aide des fonctions *reindex* et *date_range* de *Pandas*\n",
        "*   Les consommations sont données sous forme d'index des compteurs (en kWh); décumuler les index (utiliser la fonction *shift* ou *diff* de pandas) et les convertir en consommation\n",
        "*   La consommation de gaz est en m3 de gaz ; la convertir en kWh également\n",
        "*   Vérifier qu'il n'y a pas de valeurs aberrantes ; le cas échéant les supprimer\n",
        "\n",
        "Question 3 : analyse du rendement\n",
        "*   Vérifier que la somme des départs est à peu près égale à la consommation de gaz\n",
        "*   Calculer le rendement de la chaudière, pour différents pas de temps d'analyse (minute, heure, jour)\n",
        "*   Commenter\n",
        "\n",
        "Question 4 : analyse du chauffage vs. Text\n",
        "*   Calculer les DJUs (méthode professionnels de l'énergie) pour chaque jour de données\n",
        "*   Réaliser une analyse par regression sur le chauffage en fonction de Text_moy (pendant la période de chauffe) ; réaliser une analyse équivalent mais en fonction des DJUs. Analyser\n",
        "\n",
        "\n",
        "\n"
      ]
    },
    {
      "cell_type": "markdown",
      "metadata": {
        "id": "M-zXCpZy0ppA"
      },
      "source": [
        "# Exercice 3 : thermosensibilité de la consommation électrique française"
      ]
    },
    {
      "cell_type": "markdown",
      "metadata": {
        "id": "5W9zIq_609Ud"
      },
      "source": [
        "Question 1 : charger les fichiers *pic-journalier-consommation-brute.xlsx* et *RTE_EcoMix_2012_2023.xlsx*. Joindre les DataFrame se limiter aux dates communes\n",
        "\n",
        "Question 2 :\n",
        "*   tracer la consommation annuelle en fonction de la température extérieure. Choisir un modèle linéaire par morceau pour décrire ce comportement.\n",
        "*   utiliser la fonction *scipy.optimize.curve_fit* pour fitter ce modèle linéaire sur les données.\n",
        "\n",
        "Question 3 :\n",
        "*   pour chaque année, faire un fit de la consommation, estimer le MBE et le CVRMSE et calculer la consommation normalisée (modèle appliqué à la température de référence)\n",
        "*   montrer que la consommation normalisée a significativement baissé ces dernières années. Commenter\n",
        "\n"
      ]
    }
  ],
  "metadata": {
    "colab": {
      "provenance": [],
      "toc_visible": true
    },
    "kernelspec": {
      "display_name": "Python 3 (ipykernel)",
      "language": "python",
      "name": "python3"
    },
    "language_info": {
      "codemirror_mode": {
        "name": "ipython",
        "version": 3
      },
      "file_extension": ".py",
      "mimetype": "text/x-python",
      "name": "python",
      "nbconvert_exporter": "python",
      "pygments_lexer": "ipython3",
      "version": "3.11.7"
    }
  },
  "nbformat": 4,
  "nbformat_minor": 0
}